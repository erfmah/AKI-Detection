{
 "cells": [
  {
   "cell_type": "code",
   "execution_count": 53,
   "metadata": {},
   "outputs": [],
   "source": [
    "import numpy as np\n",
    "import pandas as pd\n",
    "import math\n",
    "import gplearn\n",
    "import pydotplus\n",
    "import graphviz\n",
    "import os     \n",
    "os.environ[\"PATH\"] += os.pathsep + 'C:\\Program Files (x86)\\Graphviz2.38\\bin'\n",
    "from PIL import Image\n",
    "from sklearn import metrics\n",
    "from sklearn.preprocessing import StandardScaler\n",
    "from gplearn.genetic import SymbolicRegressor\n",
    "from gplearn.genetic import SymbolicTransformer\n",
    "from gplearn.functions import make_function\n",
    "from gplearn.fitness import make_fitness"
   ]
  },
  {
   "cell_type": "code",
   "execution_count": 54,
   "metadata": {},
   "outputs": [],
   "source": [
    "def readData():\n",
    "    \n",
    "    global df\n",
    "\n",
    "    df = pd.read_csv(\"data.csv\")\n",
    "    df = df[['cpk_1','k_1', 'uricac_1','ldh_1',\"cpk3f\", 'k3f', 'uric3f','ldh3f', \"crat3f\", \"newarf\"]]\n",
    "    \n",
    "    matrix = df.values\n",
    "    for i, iv in enumerate(matrix):\n",
    "        for j, jv in enumerate(iv):\n",
    "            if jv.replace(\" \", \"\") == \"\":\n",
    "                if j == 9 :\n",
    "                    matrix[i, j] = 0\n",
    "                elif j == 8 :\n",
    "                    matrix[i, j] = 0.4\n",
    "                elif j == 7 or j == 3:   \n",
    "                    matrix[i, j] = 350\n",
    "                elif j == 6 or j == 2 :\n",
    "                    matrix[i, j] = 6\n",
    "                elif j == 5 or j == 1:\n",
    "                    matrix[i, j] = 0\n",
    "                elif j == 4 or j == 0 :\n",
    "                    matrix[i, j] = 150\n",
    "                    \n",
    "                    \n",
    "    matrix = matrix.astype(np.float32)\n",
    "    df = pd.DataFrame(matrix, columns=df.columns)\n"
   ]
  },
  {
   "cell_type": "code",
   "execution_count": 55,
   "metadata": {},
   "outputs": [],
   "source": [
    "def fitness(realData, predictData ,w):\n",
    "\n",
    "    predictData = (predictData >= 0).astype(np.float32)\n",
    "    acc = (np.sum((predictData == realData))) / predictData.shape[0]\n",
    "    \n",
    "    return acc"
   ]
  },
  {
   "cell_type": "code",
   "execution_count": 56,
   "metadata": {},
   "outputs": [],
   "source": [
    "f = make_fitness(fitness , greater_is_better=True)"
   ]
  },
  {
   "cell_type": "code",
   "execution_count": 57,
   "metadata": {},
   "outputs": [],
   "source": [
    "def accuracy(realData, predictData):\n",
    "    \n",
    "    conf_mat = metrics.confusion_matrix(realData, predictData, labels=[0, 1])\n",
    "    healthy = conf_mat[0][0] / (conf_mat[0][0]+conf_mat[0][1])\n",
    "    sick = conf_mat[1][1] / (conf_mat[1][1]+conf_mat[1][0])\n",
    "    return healthy, sick"
   ]
  },
  {
   "cell_type": "code",
   "execution_count": 58,
   "metadata": {},
   "outputs": [],
   "source": [
    "def predict(data, train, scaler = None, model = None):\n",
    "\n",
    "    data = data.copy()\n",
    "    X = data[:, :-1]\n",
    "    if train :\n",
    "        scaler  = StandardScaler().fit(X)\n",
    "    X = scaler.transform(X)\n",
    "    y = data[:, -1]\n",
    "    \n",
    "    if train:\n",
    "        model = SymbolicRegressor(function_set=['add', 'sub', 'mul', 'div', 'log', 'sqrt', 'abs', 'max' ,'min' ,'neg'], \n",
    "                                  metric = f, verbose = 0,\n",
    "                                  population_size=1000, generations=20,\n",
    "                                  stopping_criteria = 3, random_state = 42, init_depth = (5,15), \n",
    "                                  tournament_size = 100, const_range=(-3.0, 3.0),p_crossover = 0.85 ,\n",
    "                                  p_subtree_mutation = 0.01,\n",
    "                                  p_hoist_mutation = 0.04, p_point_mutation=0.1, p_point_replace=0.1)\n",
    "        \n",
    "        model.fit(X, y)\n",
    "    y_p = model.predict(X) >= 0\n",
    "    healthy, sick = accuracy(y, y_p)\n",
    "    \n",
    "    return healthy, sick, scaler, model"
   ]
  },
  {
   "cell_type": "code",
   "execution_count": 59,
   "metadata": {},
   "outputs": [],
   "source": [
    "def removeNan(data_frame,k):\n",
    "    \n",
    "    data_frame = data_frame.dropna()\n",
    "    shape0 = data_frame.shape[0]\n",
    "    ind = np.arange(shape0)\n",
    "    size = math.ceil(shape0 / k)\n",
    "    \n",
    "    \n",
    "    return data_frame, shape0, ind , size"
   ]
  },
  {
   "cell_type": "code",
   "execution_count": 60,
   "metadata": {},
   "outputs": [],
   "source": [
    "def k_fold(k):\n",
    "    \n",
    "    np.random.seed(42)\n",
    "    readData()\n",
    "    global df\n",
    "        \n",
    "    trs = []\n",
    "    tss = []\n",
    "    mdls = []\n",
    "    \n",
    "    df, shape0df, ind ,size= removeNan(df ,k)\n",
    "\n",
    "    np.random.shuffle(ind)\n",
    "    data = df.values \n",
    "    data = data[ind]\n",
    "    sizef = size\n",
    "    max_size = df.shape[0]\n",
    "    \n",
    "    for i in range(k):\n",
    "        print(\"k : \",i)\n",
    "        start = sizef * i\n",
    "        end = min(max_size, (i + 1) * sizef)\n",
    "        \n",
    "        data_train = np.concatenate([data[:start], data[end:]], axis = 0)\n",
    "        data_test  = data[start:end]\n",
    "        \n",
    "        rec0, rec1, scaler, model = predict(data_train, True)\n",
    "        trs.append((rec0, rec1))\n",
    "        graph = pydotplus.graphviz.graph_from_dot_data(model._program.export_graphviz())\n",
    "       # Image(graph.create_png())\n",
    "        rec0, rec1, scaler, model = predict(data_test, False, scaler, model)\n",
    "        tss.append((rec0, rec1))\n",
    "        print(\"train\", trs[-1])\n",
    "        print(\"test\", tss[-1])\n",
    "        \n",
    "    return trs, tss"
   ]
  },
  {
   "cell_type": "code",
   "execution_count": 62,
   "metadata": {},
   "outputs": [
    {
     "name": "stdout",
     "output_type": "stream",
     "text": [
      "model : gp\n",
      "k :  0\n",
      "train (0.9985185185185185, 0.8)\n",
      "test (0.9970238095238095, 0.6122448979591837)\n",
      "k :  1\n",
      "train (0.9970238095238095, 0.6326530612244898)\n",
      "test (0.9985185185185185, 0.8)\n"
     ]
    }
   ],
   "source": [
    "trains = []\n",
    "tests  = []\n",
    "k = 2\n",
    "print(\"model : gp\")\n",
    "trs, tss = k_fold(k)\n",
    "trains.append(trs)\n",
    "tests.append(tss)"
   ]
  },
  {
   "cell_type": "code",
   "execution_count": null,
   "metadata": {},
   "outputs": [],
   "source": []
  }
 ],
 "metadata": {
  "kernelspec": {
   "display_name": "Python 3",
   "language": "python",
   "name": "python3"
  },
  "language_info": {
   "codemirror_mode": {
    "name": "ipython",
    "version": 3
   },
   "file_extension": ".py",
   "mimetype": "text/x-python",
   "name": "python",
   "nbconvert_exporter": "python",
   "pygments_lexer": "ipython3",
   "version": "3.6.7"
  }
 },
 "nbformat": 4,
 "nbformat_minor": 2
}
